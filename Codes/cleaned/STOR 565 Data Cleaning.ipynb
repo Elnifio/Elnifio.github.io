{
 "cells": [
  {
   "cell_type": "code",
   "execution_count": 1,
   "metadata": {},
   "outputs": [],
   "source": [
    "import numpy as np\n",
    "import pandas as pd"
   ]
  },
  {
   "cell_type": "code",
   "execution_count": 3,
   "metadata": {},
   "outputs": [],
   "source": [
    "# read data, lack of info about directors\n",
    "movies = pd.read_csv(\"../dataset/movies.csv\")\n",
    "ratings = pd.read_csv(\"../dataset/ratings.csv\")\n",
    "keywords = pd.read_csv(\"../dataset/tags.csv\")"
   ]
  },
  {
   "cell_type": "code",
   "execution_count": 4,
   "metadata": {},
   "outputs": [],
   "source": [
    "# movies: genres, title, time the movie came out\n",
    "movies[\"mtitle\"] = list(map(lambda x: x[:-7],movies[\"title\"]))\n",
    "movies[\"time\"] = list(map(lambda x: x[-5:-1],movies[\"title\"].fillna(\"    \")))\n",
    "movies[\"genres\"] = list(map(lambda x: x.replace(\"|\",\" \"),movies[\"genres\"].fillna(\"    \")))\n",
    "movies[\"genres\"] = list(map(lambda x: x.replace(\"(no genres listed)\",\" \"),movies[\"genres\"].fillna(\"    \")))"
   ]
  },
  {
   "cell_type": "code",
   "execution_count": 5,
   "metadata": {},
   "outputs": [],
   "source": [
    "# keywords: all keywords for each movie into one string, change to lowercase without space\n",
    "keywords[\"keywords\"] = list(map(lambda x: x.replace(\" \",\"\").lower(),keywords[\"tag\"].fillna(\"\")))\n",
    "keyword = keywords.groupby('movieId')[\"keywords\"].apply(lambda x:\"%s\" % ' '.join(x)).reset_index()"
   ]
  },
  {
   "cell_type": "code",
   "execution_count": 6,
   "metadata": {},
   "outputs": [],
   "source": [
    "# ratings\n",
    "rating = (ratings.groupby('movieId')[\"rating\"].mean()).reset_index()\n",
    "rating[\"rating\"]= list(map(lambda x: str(round(x)),rating[\"rating\"]))"
   ]
  },
  {
   "cell_type": "code",
   "execution_count": 22,
   "metadata": {},
   "outputs": [],
   "source": [
    "# join the features: title,genres, time, keyword, ratings\n",
    "a= pd.merge(movies,rating,on = \"movieId\",how = \"left\")\n",
    "prefinal = pd.merge(a,keyword, on = \"movieId\",how = \"left\")"
   ]
  },
  {
   "cell_type": "code",
   "execution_count": 39,
   "metadata": {},
   "outputs": [],
   "source": [
    "# try to combine all the selected features into one string: time,rating,keywords,genres\n",
    "prefinal.head()\n",
    "# prefinal.to_csv(\"/Users/apple/Desktop/prefinal.csv\",index=False)\n",
    "features = [\"time\",\"rating\",\"genres\",\"keywords\"]\n",
    "for feature in features:\n",
    "    prefinal[feature] = prefinal[feature].fillna(\"\")\n",
    "        \n",
    "# def combine_features(row):\n",
    "#     return row[\"time\"]+\" \"+row[\"rating\"]+\" \"+row[\"genres\"]+ \" \"+ row[\"keywords\"]\n",
    "\n",
    "# def combine_features(row):\n",
    "#     return row['title'] + \" | \" + row['keywords'] + \" | \" + row['genres']\n",
    "#    return row['title'] + \" | \" + row['genres']\n",
    "def combine_features(row):\n",
    "    rows = row['mtitle'] + row[\"time\"]+\" \"+row[\"rating\"]+\" \"+row[\"genres\"]+ \" \"+ row[\"keywords\"]\n",
    "    rowr = np.unique(list(rows.split()))\n",
    "    return row['mtitle'] + \" | \" + \" \".join(rowr)\n",
    "\n",
    "prefinal[\"combine_features\"] = prefinal.apply(combine_features,axis=1)\n"
   ]
  },
  {
   "cell_type": "code",
   "execution_count": 41,
   "metadata": {},
   "outputs": [],
   "source": [
    "# write csv after combine all the features into one string\n",
    "\n",
    "prefinal.to_csv(\"../cleaned/final.csv\", index=False)"
   ]
  },
  {
   "cell_type": "code",
   "execution_count": 40,
   "metadata": {},
   "outputs": [
    {
     "data": {
      "text/html": [
       "<div>\n",
       "<style scoped>\n",
       "    .dataframe tbody tr th:only-of-type {\n",
       "        vertical-align: middle;\n",
       "    }\n",
       "\n",
       "    .dataframe tbody tr th {\n",
       "        vertical-align: top;\n",
       "    }\n",
       "\n",
       "    .dataframe thead th {\n",
       "        text-align: right;\n",
       "    }\n",
       "</style>\n",
       "<table border=\"1\" class=\"dataframe\">\n",
       "  <thead>\n",
       "    <tr style=\"text-align: right;\">\n",
       "      <th></th>\n",
       "      <th>movieId</th>\n",
       "      <th>title</th>\n",
       "      <th>genres</th>\n",
       "      <th>mtitle</th>\n",
       "      <th>time</th>\n",
       "      <th>rating</th>\n",
       "      <th>keywords</th>\n",
       "      <th>combine_features</th>\n",
       "    </tr>\n",
       "  </thead>\n",
       "  <tbody>\n",
       "    <tr>\n",
       "      <th>0</th>\n",
       "      <td>1</td>\n",
       "      <td>Toy Story (1995)</td>\n",
       "      <td>Adventure Animation Children Comedy Fantasy</td>\n",
       "      <td>Toy Story</td>\n",
       "      <td>1995</td>\n",
       "      <td>4</td>\n",
       "      <td>animation fun animation children toys itaege a...</td>\n",
       "      <td>Toy Story | 2009reissueinstereoscopic3-d 3d 4 ...</td>\n",
       "    </tr>\n",
       "    <tr>\n",
       "      <th>1</th>\n",
       "      <td>2</td>\n",
       "      <td>Jumanji (1995)</td>\n",
       "      <td>Adventure Children Fantasy</td>\n",
       "      <td>Jumanji</td>\n",
       "      <td>1995</td>\n",
       "      <td>3</td>\n",
       "      <td>itaege fantasy timetravel children kidflick bo...</td>\n",
       "      <td>Jumanji | 3 Adventure Children Fantasy Jumanji...</td>\n",
       "    </tr>\n",
       "    <tr>\n",
       "      <th>2</th>\n",
       "      <td>3</td>\n",
       "      <td>Grumpier Old Men (1995)</td>\n",
       "      <td>Comedy Romance</td>\n",
       "      <td>Grumpier Old Men</td>\n",
       "      <td>1995</td>\n",
       "      <td>3</td>\n",
       "      <td>sequel funniestmovies moldy old clv jacklemmon...</td>\n",
       "      <td>Grumpier Old Men | 3 Comedy Grumpier Men1995 O...</td>\n",
       "    </tr>\n",
       "    <tr>\n",
       "      <th>3</th>\n",
       "      <td>4</td>\n",
       "      <td>Waiting to Exhale (1995)</td>\n",
       "      <td>Comedy Drama Romance</td>\n",
       "      <td>Waiting to Exhale</td>\n",
       "      <td>1995</td>\n",
       "      <td>3</td>\n",
       "      <td>chickflick revenge clv characters girlmovie ch...</td>\n",
       "      <td>Waiting to Exhale | 3 Comedy Drama Exhale1995 ...</td>\n",
       "    </tr>\n",
       "    <tr>\n",
       "      <th>4</th>\n",
       "      <td>5</td>\n",
       "      <td>Father of the Bride Part II (1995)</td>\n",
       "      <td>Comedy</td>\n",
       "      <td>Father of the Bride Part II</td>\n",
       "      <td>1995</td>\n",
       "      <td>3</td>\n",
       "      <td>humorous stevemartin dianekeaton family sequel...</td>\n",
       "      <td>Father of the Bride Part II | 3 Bride Comedy F...</td>\n",
       "    </tr>\n",
       "  </tbody>\n",
       "</table>\n",
       "</div>"
      ],
      "text/plain": [
       "   movieId                               title  \\\n",
       "0        1                    Toy Story (1995)   \n",
       "1        2                      Jumanji (1995)   \n",
       "2        3             Grumpier Old Men (1995)   \n",
       "3        4            Waiting to Exhale (1995)   \n",
       "4        5  Father of the Bride Part II (1995)   \n",
       "\n",
       "                                        genres                       mtitle  \\\n",
       "0  Adventure Animation Children Comedy Fantasy                    Toy Story   \n",
       "1                   Adventure Children Fantasy                      Jumanji   \n",
       "2                               Comedy Romance             Grumpier Old Men   \n",
       "3                         Comedy Drama Romance            Waiting to Exhale   \n",
       "4                                       Comedy  Father of the Bride Part II   \n",
       "\n",
       "   time rating                                           keywords  \\\n",
       "0  1995      4  animation fun animation children toys itaege a...   \n",
       "1  1995      3  itaege fantasy timetravel children kidflick bo...   \n",
       "2  1995      3  sequel funniestmovies moldy old clv jacklemmon...   \n",
       "3  1995      3  chickflick revenge clv characters girlmovie ch...   \n",
       "4  1995      3  humorous stevemartin dianekeaton family sequel...   \n",
       "\n",
       "                                    combine_features  \n",
       "0  Toy Story | 2009reissueinstereoscopic3-d 3d 4 ...  \n",
       "1  Jumanji | 3 Adventure Children Fantasy Jumanji...  \n",
       "2  Grumpier Old Men | 3 Comedy Grumpier Men1995 O...  \n",
       "3  Waiting to Exhale | 3 Comedy Drama Exhale1995 ...  \n",
       "4  Father of the Bride Part II | 3 Bride Comedy F...  "
      ]
     },
     "execution_count": 40,
     "metadata": {},
     "output_type": "execute_result"
    }
   ],
   "source": [
    "prefinal.head()"
   ]
  },
  {
   "cell_type": "code",
   "execution_count": 28,
   "metadata": {},
   "outputs": [
    {
     "data": {
      "text/plain": [
       "\"1995 2009reissueinstereoscopic3-d 3d 4 55movieseverykidshouldsee--entertainmentweekly Adventure Animation Children Comedy Fantasy action actionfigure actionfigures adventure almostfavorite americananimation animated animation avi bd-video bestofrottentomatoes:alltime bright buddymovie buy buzzlightyear cartoon cganimation cgi cgiclassic children childrencartoon classic clever clv comedy computeranimation cowboy cute daringrescues digital dinosaur disney disneyanimatedfeature dolls dvd-video engaging erlend'sdvds excitingplot family familyfilm fanciful fantasy feel-good firstcgifilm friendship fun funfamilymovie funny funnylines goodanimation goodcartoonchindren goodtime greatmovie heroicmission humorous imdbtop250 innovative itaege johnlasseter kids kidsandfamily kidsmovie light lighthearted lotsofheart lovablecharacters nationalfilmregistry nostalgic pixar pixaranimation rated-g rousing sci-fi soothing story theboys timallen timetravel tomhanks touchingstory toy toys toyscometolife tumey'stoseeagain tumey'svhs tã©aleonidoesnotstarinthismovie unlikelyfriendships usa verygood villianhurtstoys voiceacting want wanttoseeagain warm watched whimsica witty woody yaboy é˜®ä¸€é¸£\""
      ]
     },
     "execution_count": 28,
     "metadata": {},
     "output_type": "execute_result"
    }
   ],
   "source": [
    "prefinal.iloc[0]['combine_features']"
   ]
  },
  {
   "cell_type": "code",
   "execution_count": null,
   "metadata": {},
   "outputs": [],
   "source": []
  }
 ],
 "metadata": {
  "kernelspec": {
   "display_name": "Python 3",
   "language": "python",
   "name": "python3"
  },
  "language_info": {
   "codemirror_mode": {
    "name": "ipython",
    "version": 3
   },
   "file_extension": ".py",
   "mimetype": "text/x-python",
   "name": "python",
   "nbconvert_exporter": "python",
   "pygments_lexer": "ipython3",
   "version": "3.7.4"
  }
 },
 "nbformat": 4,
 "nbformat_minor": 4
}
