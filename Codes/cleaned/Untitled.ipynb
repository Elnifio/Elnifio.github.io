{
 "cells": [
  {
   "cell_type": "code",
   "execution_count": 1,
   "metadata": {},
   "outputs": [],
   "source": [
    "import pandas"
   ]
  },
  {
   "cell_type": "code",
   "execution_count": 2,
   "metadata": {},
   "outputs": [],
   "source": [
    "dt = pandas.read_csv(\"./final.csv\")"
   ]
  },
  {
   "cell_type": "code",
   "execution_count": 3,
   "metadata": {},
   "outputs": [
    {
     "data": {
      "text/plain": [
       "0                          Toy Story\n",
       "1                            Jumanji\n",
       "2                   Grumpier Old Men\n",
       "3                  Waiting to Exhale\n",
       "4        Father of the Bride Part II\n",
       "                    ...             \n",
       "34203                     Grand Slam\n",
       "34204                     Bloodmoney\n",
       "34205           The Butterfly Circus\n",
       "34206                           Zero\n",
       "34207          The 2000 Year Old Man\n",
       "Name: mtitle, Length: 34208, dtype: object"
      ]
     },
     "execution_count": 3,
     "metadata": {},
     "output_type": "execute_result"
    }
   ],
   "source": [
    "dt['mtitle']"
   ]
  },
  {
   "cell_type": "code",
   "execution_count": 16,
   "metadata": {},
   "outputs": [
    {
     "name": "stdout",
     "output_type": "stream",
     "text": [
      "Toy Story (1995)\n",
      "Toy Story 2 (1999)\n",
      "Toy Story 3 (2010)\n",
      "Toy Story of Terror (2013)\n",
      "Toy Story Toons: Hawaiian Vacation (2011)\n",
      "Toy Story Toons: Small Fry (2011)\n",
      "Toy Story Toons: Partysaurus Rex (2012)\n",
      "Toy Story That Time Forgot (2014)\n"
     ]
    }
   ],
   "source": [
    "for i in range(len(dt)):\n",
    "    data = dt.iloc[i]\n",
    "    if \"Toy Story\" in data['title']:\n",
    "        print(data['title'])"
   ]
  },
  {
   "cell_type": "code",
   "execution_count": 11,
   "metadata": {},
   "outputs": [
    {
     "data": {
      "text/plain": [
       "array(['1995', '1994', '1996', '1976', '1992', '1988', '1967', '1993',\n",
       "       '1964', '1977', '1965', '1982', '1985', '1990', '1991', '1989',\n",
       "       '1937', '1940', '1969', '1981', '1973', '1970', '1960', '1955',\n",
       "       '1959', '1968', '1980', '1975', '1986', '1948', '1943', '1950',\n",
       "       '1946', '1987', '1997', '1974', '1956', '1958', '1949', '1972',\n",
       "       '1998', '1933', '1952', '1951', '1957', '1961', '1954', '1934',\n",
       "       '1944', '1963', '1942', '1941', '1953', '1939', '1947', '1945',\n",
       "       '1938', '1935', '1936', '1926', '1932', '1979', '1971', '1978',\n",
       "       '1966', '1962', '1983', '1984', '1931', '1922', '1999', '1927',\n",
       "       '1929', '1930', '1928', '1925', '1914', '2000', '1919', '1923',\n",
       "       '1920', '1918', '1921', '2001', '1924', '2002', '2003', '1915',\n",
       "       '2004', '1916', '1917', '948)', '965)', '988)', '999)', '2005',\n",
       "       '2006', '003)', '002)', '995)', '1902', '001)', '989)', '971)',\n",
       "       'lon ', '1903', '2007', '006)', '2008', '980)', '008)', '007)',\n",
       "       '2009', '1912', '2010', 'piel', '009)', '010)', '1913', '2011',\n",
       "       '1898', '1899', '983)', '929)', '949)', '004)', 'poma', '011)',\n",
       "       '1894', '937)', '986)', '970)', '998)', '2012', '972)', '005)',\n",
       "       '928)', '909)', '984)', '978)', '1910', '1901', '976)', '993)',\n",
       "       '1893', '967)', '2013', '1896', '968)', '985)', '977)', '973)',\n",
       "       '994)', '997)', '938)', '962)', '950)', '012)', '990)', '963)',\n",
       "       '013)', '958)', '957)', '956)', '2014', '09– ', '961)', '007-',\n",
       "       '014)', '987)', '2015', 'dium', '1895', 'adge', '1909', 'bore',\n",
       "       'stei', '1911', '1900', '2016', 'inso', 'arde', 'Worl', '1905',\n",
       "       ' Nyr', 'nqui', ' Roa', 'Cial', 'gówn', ' Fal', 'n Ma', '1904',\n",
       "       '1891', ' Ala', 'ille', 'akhn', 'Land', 'ittl', 'llar', 'oys ',\n",
       "       'stic', 'tori', 'urus', 'Star', 'arit', 's/Al', 'Sara', '1892',\n",
       "       '1908', '1897', 'azon', 'r On', 'pido', 'wing', 'roun', 'e Gu',\n",
       "       'obot', 'auru', 'Viv', 'pait', 'Mhan', 'roma', 'Jatr', 'ebaa',\n",
       "       'tefa', ' sai', ' Kar', ' Jee', 'Bloo', 'Ston', 'eopl', 'rrot',\n",
       "       'atso', ' Agr', '1887', '1888', '1890', '1878', '1874', 'blic',\n",
       "       'embe', ' Cod', '01次求', 'utur', 'ijda', ' Cag', ' Kid', ' Okn',\n",
       "       'dvic', 'undr'], dtype=object)"
      ]
     },
     "execution_count": 11,
     "metadata": {},
     "output_type": "execute_result"
    }
   ],
   "source": [
    "dt.time.unique()"
   ]
  },
  {
   "cell_type": "code",
   "execution_count": 15,
   "metadata": {},
   "outputs": [
    {
     "data": {
      "text/html": [
       "<div>\n",
       "<style scoped>\n",
       "    .dataframe tbody tr th:only-of-type {\n",
       "        vertical-align: middle;\n",
       "    }\n",
       "\n",
       "    .dataframe tbody tr th {\n",
       "        vertical-align: top;\n",
       "    }\n",
       "\n",
       "    .dataframe thead th {\n",
       "        text-align: right;\n",
       "    }\n",
       "</style>\n",
       "<table border=\"1\" class=\"dataframe\">\n",
       "  <thead>\n",
       "    <tr style=\"text-align: right;\">\n",
       "      <th></th>\n",
       "      <th>movieId</th>\n",
       "      <th>title</th>\n",
       "      <th>genres</th>\n",
       "      <th>mtitle</th>\n",
       "      <th>time</th>\n",
       "      <th>rating</th>\n",
       "      <th>keywords</th>\n",
       "      <th>combine_features</th>\n",
       "    </tr>\n",
       "  </thead>\n",
       "  <tbody>\n",
       "    <tr>\n",
       "      <th>22471</th>\n",
       "      <td>107434</td>\n",
       "      <td>Diplomatic Immunity (2009– )</td>\n",
       "      <td>Comedy</td>\n",
       "      <td>Diplomatic Immunity (</td>\n",
       "      <td>09–</td>\n",
       "      <td>5.0</td>\n",
       "      <td>NaN</td>\n",
       "      <td>Diplomatic Immunity ( | (09– 5 Comedy Diplomat...</td>\n",
       "    </tr>\n",
       "  </tbody>\n",
       "</table>\n",
       "</div>"
      ],
      "text/plain": [
       "       movieId                         title  genres                 mtitle  \\\n",
       "22471   107434  Diplomatic Immunity (2009– )  Comedy  Diplomatic Immunity (   \n",
       "\n",
       "       time  rating keywords  \\\n",
       "22471  09–      5.0      NaN   \n",
       "\n",
       "                                        combine_features  \n",
       "22471  Diplomatic Immunity ( | (09– 5 Comedy Diplomat...  "
      ]
     },
     "execution_count": 15,
     "metadata": {},
     "output_type": "execute_result"
    }
   ],
   "source": [
    "dt[dt['time'] == '09– ']"
   ]
  },
  {
   "cell_type": "code",
   "execution_count": null,
   "metadata": {},
   "outputs": [],
   "source": []
  }
 ],
 "metadata": {
  "kernelspec": {
   "display_name": "Python 3",
   "language": "python",
   "name": "python3"
  },
  "language_info": {
   "codemirror_mode": {
    "name": "ipython",
    "version": 3
   },
   "file_extension": ".py",
   "mimetype": "text/x-python",
   "name": "python",
   "nbconvert_exporter": "python",
   "pygments_lexer": "ipython3",
   "version": "3.7.4"
  }
 },
 "nbformat": 4,
 "nbformat_minor": 4
}
